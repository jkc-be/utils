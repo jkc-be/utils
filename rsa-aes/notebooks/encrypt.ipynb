{
 "cells": [
  {
   "cell_type": "code",
   "execution_count": 13,
   "metadata": {},
   "outputs": [
    {
     "name": "stdout",
     "output_type": "stream",
     "text": [
      "Requirement already satisfied: cryptography in /Library/Frameworks/Python.framework/Versions/3.12/lib/python3.12/site-packages (from -r requirements.txt (line 1)) (42.0.1)\n",
      "Requirement already satisfied: cffi>=1.12 in /Library/Frameworks/Python.framework/Versions/3.12/lib/python3.12/site-packages (from cryptography->-r requirements.txt (line 1)) (1.16.0)\n",
      "Requirement already satisfied: pycparser in /Library/Frameworks/Python.framework/Versions/3.12/lib/python3.12/site-packages (from cffi>=1.12->cryptography->-r requirements.txt (line 1)) (2.21)\n"
     ]
    }
   ],
   "source": [
    "!pip install -r requirements.txt"
   ]
  },
  {
   "cell_type": "code",
   "execution_count": 14,
   "metadata": {},
   "outputs": [],
   "source": [
    "import base64\n",
    "import json\n",
    "\n",
    "from cryptography.hazmat.primitives import serialization\n",
    "from cryptography.hazmat.backends import default_backend\n",
    "from cryptography.hazmat.primitives.asymmetric import rsa, padding\n",
    "from cryptography.hazmat.primitives import hashes\n",
    "from cryptography.fernet import Fernet"
   ]
  },
  {
   "cell_type": "markdown",
   "metadata": {},
   "source": [
    "### make public and private pem keypair"
   ]
  },
  {
   "cell_type": "code",
   "execution_count": 15,
   "metadata": {},
   "outputs": [
    {
     "name": "stdout",
     "output_type": "stream",
     "text": [
      ".......+.+.....+............+................+..+..........+..+.+..+.......+..+....+.....+.+.....+...+.+......+......+..+...+...+.+.....+.+............+...+..+...+....+...+.....+.+.....+.+......+.........+.....................+..+.+.....+.+.....+..........+.........+..+++++++++++++++++++++++++++++++++++++++++++++*..+....+...+..+.+++++++++++++++++++++++++++++++++++++++++++++*........+.........................+.....+.+......+...........+....+........+..........+.................+....+..............+...+.......+..+.........+................+...+..+....+..+.......+.....+...+....+......+..+................+.....+...................+..+.+........+....+..+.+..+.......+........+...+............................+.................+....+...+.....+.......+......................................+.+..+....+..............+....+..+.+..............+...+.+......+...+.....+......+.+.....+.+............+........+....+.........+............+..+..........+..+.+..+.............+..+...+...+.......+.....+.............+..+........................+....+......+........+...+...........................+..........+...........+....+..+....+..+...............+...............+............+.+......+...+....................+...+..........+.........+.....+................+...+......+.....+...+.+.....+..........+.....+....+......+...........+...+...+....+...............+...+...+..............+.+...+..+.......+..+................+...+......+...+...........+......+....+..+....+.....+.........+....+........+.........+...+...+.........+..................+.+......+..............+.......+............+........+...+......+.+...+.........+..+......+.........+...+.......+...+...+...+..+...+.....................+......+...+.+...+..+...+...+....+.........+..+............+.+......+..............+.+...+..................+..+.+.................+++++\n",
      ".+++++++++++++++++++++++++++++++++++++++++++++*...+..........+..+.+.....+.+++++++++++++++++++++++++++++++++++++++++++++*.............+...................+..+.+...+.................+...+.......+........+++++\n",
      "writing RSA key\n"
     ]
    }
   ],
   "source": [
    "!sh keys/make.sh"
   ]
  },
  {
   "cell_type": "markdown",
   "metadata": {},
   "source": [
    "### read in pub and private key"
   ]
  },
  {
   "cell_type": "code",
   "execution_count": 16,
   "metadata": {},
   "outputs": [],
   "source": [
    "with open(\"keys/private_key.pem\", \"rb\") as f:\n",
    "    private_key = serialization.load_pem_private_key(\n",
    "        f.read(), password=None, backend=default_backend()\n",
    "    )\n",
    "\n",
    "with open(\"keys/public_key.pem\", \"rb\") as f:\n",
    "    public_key = serialization.load_pem_public_key(f.read(), backend=default_backend())"
   ]
  },
  {
   "cell_type": "markdown",
   "metadata": {},
   "source": [
    "### 1. create symetric AES key and encrypt with RSA public key"
   ]
  },
  {
   "cell_type": "code",
   "execution_count": 17,
   "metadata": {},
   "outputs": [],
   "source": [
    "# Generate a new AES key for this encryption session\n",
    "aes_key = Fernet.generate_key()\n",
    "cipher = Fernet(aes_key)"
   ]
  },
  {
   "cell_type": "code",
   "execution_count": 18,
   "metadata": {},
   "outputs": [],
   "source": [
    "# Encrypt the AES key with the RSA public key\n",
    "encrypted_aes_key = public_key.encrypt(\n",
    "    aes_key,\n",
    "    padding.OAEP(\n",
    "        mgf=padding.MGF1(algorithm=hashes.SHA256()),\n",
    "        algorithm=hashes.SHA256(),\n",
    "        label=None,\n",
    "    ),\n",
    ")"
   ]
  },
  {
   "cell_type": "markdown",
   "metadata": {},
   "source": [
    "### 2. convert to base64"
   ]
  },
  {
   "cell_type": "code",
   "execution_count": 19,
   "metadata": {},
   "outputs": [],
   "source": [
    "base64_encoded_key = base64.b64encode(encrypted_aes_key).decode(\"utf-8\")"
   ]
  },
  {
   "cell_type": "code",
   "execution_count": 20,
   "metadata": {},
   "outputs": [
    {
     "data": {
      "text/plain": [
       "'ewx1QWhonBS+YhMgelgD17eq1SxsrO8JZFuLF0cGZi7yJbrW1iqe4aWo/nwBdPtoDP4snQC2lZiE6E3fn9r5s6SFztOy4TO1CSHBiOZ1Fi57rYVQsuONQejY7Da9027UmKFcseo+GusmpsvZ+LRTqjPeiB8MVATb/E01a1jH7qRd2MAU9lKY1EvfkyJ4j1+niYUAamF+6XZh5CK2uUPC3psJ5d8Tf0udoNevsh6fxqsLXfbt40arCXhDC4nBRxa2oXRERw5/8UW/d4URU9SZXbWLZUMyG7Aq79Qve58ibTwU7i3DF45LBn2qOSuIDlEGRK55tR8eU0jmEglzHKx3JiVbZIoNsEvKdbvF52nlrjGqpEaoqrquHFATb/9AEH+odnVkcEvk1HjGZXfSI5X3TSejncBXLmUdMe/gRJ7mfSX4p6GjS2PhHlKgv36GWngEZqJ32Ye9OlJI4QVhUP/NYIexZkOLwNrA/yXtOi0EHApG1QTlq9FtsGJlvABX3h7eEpIlKHDvqQcubA+bh8vEMEgxzoEU3AapVyVt+4NcjV8SdZLFQ0Ize4fwi4NpBmltgUxTHvH+ckK91P14qZZRbUvv2aUsrhLmfW+GcGSdtpMktQDhC2RLGttntjm6R9qq38R1cDXJ9ORUN66tHOClUZMqCvBrFZzoi8VHYDVio9w='"
      ]
     },
     "execution_count": 20,
     "metadata": {},
     "output_type": "execute_result"
    }
   ],
   "source": [
    "base64_encoded_key"
   ]
  },
  {
   "cell_type": "markdown",
   "metadata": {},
   "source": [
    "### 3. encrypt test email and write to response.json"
   ]
  },
  {
   "cell_type": "code",
   "execution_count": 21,
   "metadata": {},
   "outputs": [],
   "source": [
    "# Define encryption function for data\n",
    "def encrypt_value(value):\n",
    "    if isinstance(value, str):\n",
    "        return cipher.encrypt(value.encode()).decode()\n",
    "    return None"
   ]
  },
  {
   "cell_type": "code",
   "execution_count": 22,
   "metadata": {},
   "outputs": [],
   "source": [
    "email = \"loremipsum@email.com\"\n",
    "email_encrypted = encrypt_value(email)"
   ]
  },
  {
   "cell_type": "code",
   "execution_count": 23,
   "metadata": {},
   "outputs": [],
   "source": [
    "output = {\n",
    "    \"emailEncrypted\": email_encrypted,\n",
    "    \"base64EncodedKey\": [base64_encoded_key],\n",
    "}\n",
    "\n",
    "with open(\"response/response.json\", \"w\") as f:\n",
    "    json.dump(output, f)"
   ]
  }
 ],
 "metadata": {
  "kernelspec": {
   "display_name": "Python 3",
   "language": "python",
   "name": "python3"
  },
  "language_info": {
   "codemirror_mode": {
    "name": "ipython",
    "version": 3
   },
   "file_extension": ".py",
   "mimetype": "text/x-python",
   "name": "python",
   "nbconvert_exporter": "python",
   "pygments_lexer": "ipython3",
   "version": "3.12.0"
  }
 },
 "nbformat": 4,
 "nbformat_minor": 2
}

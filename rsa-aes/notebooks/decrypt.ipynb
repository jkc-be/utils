{
 "cells": [
  {
   "cell_type": "code",
   "execution_count": 7,
   "metadata": {},
   "outputs": [
    {
     "name": "stdout",
     "output_type": "stream",
     "text": [
      "Requirement already satisfied: cryptography in /Library/Frameworks/Python.framework/Versions/3.12/lib/python3.12/site-packages (from -r requirements.txt (line 1)) (42.0.1)\n",
      "Requirement already satisfied: cffi>=1.12 in /Library/Frameworks/Python.framework/Versions/3.12/lib/python3.12/site-packages (from cryptography->-r requirements.txt (line 1)) (1.16.0)\n",
      "Requirement already satisfied: pycparser in /Library/Frameworks/Python.framework/Versions/3.12/lib/python3.12/site-packages (from cffi>=1.12->cryptography->-r requirements.txt (line 1)) (2.21)\n"
     ]
    }
   ],
   "source": [
    "!pip install -r requirements.txt"
   ]
  },
  {
   "cell_type": "code",
   "execution_count": 28,
   "metadata": {},
   "outputs": [],
   "source": [
    "import base64\n",
    "import json\n",
    "\n",
    "from cryptography.hazmat.primitives import serialization\n",
    "from cryptography.hazmat.backends import default_backend\n",
    "from cryptography.hazmat.primitives.asymmetric import rsa, padding\n",
    "from cryptography.hazmat.primitives import hashes\n",
    "from cryptography.fernet import Fernet"
   ]
  },
  {
   "cell_type": "markdown",
   "metadata": {},
   "source": [
    "### read in pub and private key"
   ]
  },
  {
   "cell_type": "code",
   "execution_count": 9,
   "metadata": {},
   "outputs": [],
   "source": [
    "with open(\"keys/private_key.pem\", \"rb\") as f:\n",
    "    private_key = serialization.load_pem_private_key(\n",
    "        f.read(), password=None, backend=default_backend()\n",
    "    )\n",
    "\n",
    "with open(\"keys/public_key.pem\", \"rb\") as f:\n",
    "    public_key = serialization.load_pem_public_key(f.read(), backend=default_backend())"
   ]
  },
  {
   "cell_type": "markdown",
   "metadata": {},
   "source": [
    "### read in response.json"
   ]
  },
  {
   "cell_type": "code",
   "execution_count": 10,
   "metadata": {},
   "outputs": [],
   "source": [
    "with open(\"response/response.json\", \"r\") as f:\n",
    "    response = json.load(f)"
   ]
  },
  {
   "cell_type": "code",
   "execution_count": 11,
   "metadata": {},
   "outputs": [
    {
     "data": {
      "text/plain": [
       "{'emailEncrypted': 'gAAAAABlsljFJZYbk3pRiowWKk-DkU5wpAecGyNt_FvhsRStwP3aVfC35Ah1cWBjGJiWuUmE90TTw4Ho61_0A_nZ1lM1aU1PGVi0z1jhPai2hLmpU2frNhk=',\n",
       " 'base64EncodedKey': ['sfD5nvAmzRZyWJu6gEEPZbdOBER+4O+ud8SEI5U7IgFqiLijkdiD+dFaCSWnQCnlRx/V1afpRa8E2yCrcBJj9hMKji7oDwMkWFih1q5iznrRqQ4quck+Z2W34vYrhtM3Lo0kvmHkEhm5z5BWZ0vyvl94TAoGuh0NdfEBYEk7btf+DipH07gMPAhiJfC10rEgNE7l+Ttz+43P70CDjB4QjNHd6FuC/xPr3rug4NBh9v2qLljb+LkIRSEGkvdaKdHCjCcymbEiaLvFYuoAcbDV3Hyj/z9XT2UTR1s5sipsg7gHZ2qHDKPuRac3abNJB2EUvSZchImfGcFf91XcPp/t4fzq9Xm6osTjHgXTGDTry+pfAIlb5OO/eMUtXoHFLt32Y7IfE7oyIS2r5+AC4nHf7KG0S6tnkDE48OdY4N7DHZ/uCxevLFxmKjwyF/eVmbqlg75dp8zoyn5dcGJ4lezNSVtL0zGFF33RM8SzXlZLkSdd22OAhEaFKaaAW4qyT7olIeEzPZz011XD+plkL5xTjNV/fOiof3ZjqcsLr29CqfEnapEyserm19/9UHAVtyXlNnyLQRKG5PMPWmd2flnVgCSadIHKgSHh9hRIG9rGDr1hyugegM6dua+OoaqD9aqx5yR9p1MNVp/x9kueYadxFL238+g6F+gsx6tOwLIBxc0=']}"
      ]
     },
     "execution_count": 11,
     "metadata": {},
     "output_type": "execute_result"
    }
   ],
   "source": [
    "response"
   ]
  },
  {
   "cell_type": "markdown",
   "metadata": {},
   "source": [
    "### 1. convert base64 RSA to bytes"
   ]
  },
  {
   "cell_type": "code",
   "execution_count": 16,
   "metadata": {},
   "outputs": [],
   "source": [
    "base64EncodedKey = response.get(\"base64EncodedKey\", [None])[0]"
   ]
  },
  {
   "cell_type": "code",
   "execution_count": 19,
   "metadata": {},
   "outputs": [],
   "source": [
    "EncodedKey = base64.b64decode(base64EncodedKey)"
   ]
  },
  {
   "cell_type": "markdown",
   "metadata": {},
   "source": [
    "### 2. decrypt RSA public key to get symetric AES key"
   ]
  },
  {
   "cell_type": "code",
   "execution_count": 29,
   "metadata": {},
   "outputs": [],
   "source": [
    "aes_key = private_key.decrypt(\n",
    "    EncodedKey,\n",
    "    padding.OAEP(\n",
    "        mgf=padding.MGF1(algorithm=hashes.SHA256()),\n",
    "        algorithm=hashes.SHA256(),\n",
    "        label=None,\n",
    "    ),\n",
    ")"
   ]
  },
  {
   "cell_type": "code",
   "execution_count": 30,
   "metadata": {},
   "outputs": [],
   "source": [
    "cipher = Fernet(aes_key)"
   ]
  },
  {
   "cell_type": "markdown",
   "metadata": {},
   "source": [
    "### 3. use AES key to decrypt message"
   ]
  },
  {
   "cell_type": "code",
   "execution_count": 36,
   "metadata": {},
   "outputs": [
    {
     "data": {
      "text/plain": [
       "'loremipsum@email.com'"
      ]
     },
     "execution_count": 36,
     "metadata": {},
     "output_type": "execute_result"
    }
   ],
   "source": [
    "emailEncrypted = response.get(\"emailEncrypted\", None)\n",
    "decrypted_email = cipher.decrypt(emailEncrypted).decode('utf-8')\n",
    "decrypted_email"
   ]
  }
 ],
 "metadata": {
  "kernelspec": {
   "display_name": "Python 3",
   "language": "python",
   "name": "python3"
  },
  "language_info": {
   "codemirror_mode": {
    "name": "ipython",
    "version": 3
   },
   "file_extension": ".py",
   "mimetype": "text/x-python",
   "name": "python",
   "nbconvert_exporter": "python",
   "pygments_lexer": "ipython3",
   "version": "3.12.0"
  }
 },
 "nbformat": 4,
 "nbformat_minor": 2
}
